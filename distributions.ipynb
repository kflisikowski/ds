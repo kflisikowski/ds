{
 "cells": [
  {
   "cell_type": "code",
   "execution_count": null,
   "metadata": {},
   "outputs": [],
   "source": [
    "#installation of required packages (assuming pip is setup)\n",
    "%pip install scipy\n",
    "%pip install pandas\n",
    "%pip install matplotlib\n"
   ]
  },
  {
   "cell_type": "code",
   "execution_count": null,
   "metadata": {},
   "outputs": [],
   "source": [
    "import pandas as pd\n",
    "import numpy as np\n",
    "import matplotlib.pyplot as plt\n",
    "import scipy.stats as st\n"
   ]
  },
  {
   "cell_type": "code",
   "execution_count": null,
   "metadata": {},
   "outputs": [],
   "source": [
    "#Optional dark mode for plots\n",
    "plt.style.use('dark_background')\n"
   ]
  },
  {
   "cell_type": "markdown",
   "metadata": {},
   "source": [
    "# R function translations\n",
    "`pbinom` -> `st.binom.cdf` - cumulative distribution function \\\n",
    "`dbinom` -> `st.binom.pmf` - probability mass function \\\n",
    "`qbinom` -> `st.binom.ppf` - percent point function \\\n",
    "`rbinom` -> `st.binom.rvs` - random variates \\\n",
    "The same applies for different distributions (eg. `ppoisson` -> `st.poisson.cdf`)"
   ]
  },
  {
   "cell_type": "markdown",
   "metadata": {},
   "source": [
    "# Exercise 1.\n",
    "As a sport analyst, you would like to calculate some probabilities for basketball player who is shooting guard.\n",
    "n = 10 attempts and\n",
    "p = 0.7 the probability for scoring three-points\n",
    "Calculate the following probabilities: P(X ≤ 3), P(X < 3), P(X > 4) and P(X = 7)."
   ]
  },
  {
   "cell_type": "code",
   "execution_count": null,
   "metadata": {},
   "outputs": [],
   "source": [
    "n = 10\n",
    "p = 0.7\n",
    "\n",
    "print(f\"P(X ≤ 3) = {st.binom.cdf(3, n, p)}\")\n",
    "\n",
    "print(f\"P(X < 3) = {st.binom.cdf(2, n, p)}\")\n",
    "\n",
    "print(f\"P(X > 4) = {1 - st.binom.cdf(4, n, p)}\")\n",
    "\n",
    "print(f\"P(X = 7) = {st.binom.pmf(7, n, p)}\")\n",
    "\n",
    "print(f\"Median: {st.binom.ppf(0.5, n, p)}\")\n"
   ]
  },
  {
   "cell_type": "code",
   "execution_count": null,
   "metadata": {},
   "outputs": [],
   "source": [
    "#Now let's visualize:\n",
    "\n",
    "df = pd.DataFrame()\n",
    "df[\"k\"] = np.arange(0, n+1)\n",
    "df[\"prob_density\"] = st.binom.pmf(df[\"k\"], n, p)\n",
    "\n",
    "plt.stem(df[\"k\"],df[\"prob_density\"])\n",
    "plt.xlabel('k')\n",
    "plt.ylabel('P(X = k)')\n",
    "plt.title(f'Binomial Distribution (n={n}, p={p})')\n",
    "plt.show()\n"
   ]
  },
  {
   "cell_type": "markdown",
   "metadata": {},
   "source": [
    "# Exercise 2.\n",
    "On a large fully automated production plant items are pushed to a side band at random time points, from which\n",
    "they are automatically fed to a control unit. The production plant is set up in such a way that the number of\n",
    "items sent to the control unit on average is 1.6 item pr. minute. Let the random variable X denote the number\n",
    "of items pushed to the side band in 1 minute.\n",
    "\n",
    "a: What is the probability that there will be more than 5 items at the control unit in a given minute?\\\n",
    "b: What is the probability that not more than 8 items arrive to the control unit within a 5-minute period?"
   ]
  },
  {
   "cell_type": "code",
   "execution_count": null,
   "metadata": {},
   "outputs": [],
   "source": [
    "la = 1.6 #lambda\n",
    "\n",
    "print(f\"a) {1 - st.poisson.cdf(5, la)}\")\n",
    "\n",
    "print(f\"b) {st.poisson.cdf(8, la*5)}\")\n"
   ]
  },
  {
   "cell_type": "code",
   "execution_count": null,
   "metadata": {},
   "outputs": [],
   "source": [
    "#Now let's visualize:\n",
    "\n",
    "df = pd.DataFrame()\n",
    "df[\"lambda\"] = np.arange(0, 11)\n",
    "df[\"prob_density\"] = st.poisson.pmf(df[\"lambda\"], la)\n",
    "\n",
    "plt.stem(df[\"lambda\"],df[\"prob_density\"])\n",
    "plt.xlabel('k')\n",
    "plt.ylabel('P(X = k)')\n",
    "plt.title(f'Poisson (la={la})')\n",
    "plt.show()\n"
   ]
  },
  {
   "cell_type": "markdown",
   "metadata": {},
   "source": [
    "# Exercise 3.(DIY)\n",
    "In the manufacture of car engine cylinders, it's known that there are 5 defective cylinders in every batch of 100\n",
    "cylinders produced. From a production batch of 100 cylinders, 6 cylinders are selected randomly for analyzing.\n",
    "What is the probability that the sample contains 2 defective cylinders?"
   ]
  },
  {
   "cell_type": "code",
   "execution_count": null,
   "metadata": {},
   "outputs": [],
   "source": [
    "print(f\"Probability is: {st.binom.pmf(2, 6, 0.05)}\")\n"
   ]
  },
  {
   "cell_type": "code",
   "execution_count": null,
   "metadata": {},
   "outputs": [],
   "source": [
    "#Now let's visualize:\n",
    "df = pd.DataFrame()\n",
    "df[\"k\"] = np.arange(0, 7)\n",
    "df[\"prob_density\"] = st.binom.pmf(df[\"k\"], 6, 0.05)\n",
    "\n",
    "plt.stem(df[\"k\"],df[\"prob_density\"])\n",
    "plt.xlabel('k')\n",
    "plt.ylabel('P(X = k)')\n",
    "plt.title(f'Binomial Distribution (n={6}, p={0.05})')\n",
    "plt.show()\n"
   ]
  },
  {
   "cell_type": "markdown",
   "metadata": {},
   "source": [
    "# Exercise 4.(DIY)\n",
    "A company, which produces tires, is using new technology to provide safer driving experience to drivers. According to their claim, while speed is 70km/h, breaking distance of those tires have normal distribution with mean equal to 26.4 meters and sigma is equal to 2.34\n",
    "\n",
    "According to standards, breaking distance shouldn't be higher than 29 meters, while speed is 70 km/h. \\\n",
    "a: What is the probability of being comply with standards? \\\n",
    "b: What is the probability of having breaking distance between 26 and 24?"
   ]
  },
  {
   "cell_type": "code",
   "execution_count": null,
   "metadata": {},
   "outputs": [],
   "source": [
    "# a) Probability of compliance with standards\n",
    "mu = 26.4\n",
    "sigma = 2.34\n",
    "x = 29\n",
    "z = (x - mu) / sigma\n",
    "print(f\"Probability of compliance with standards: {st.norm.cdf(z)}\")\n",
    "\n",
    "# b) Probability of breaking distance between 26 and 24\n",
    "x1 = 26\n",
    "x2 = 24\n",
    "z1 = (x1 - mu) / sigma\n",
    "z2 = (x2 - mu) / sigma\n",
    "print(f\"Probability of breaking distance between 26 and 24: {st.norm.cdf(z1) - st.norm.cdf(z2)}\")\n"
   ]
  },
  {
   "cell_type": "code",
   "execution_count": null,
   "metadata": {},
   "outputs": [],
   "source": [
    "# Now let's visualize:\n",
    "\n",
    "df = pd.DataFrame()\n",
    "df[\"x\"] = np.linspace(20, 40, 100)\n",
    "df[\"prob_density\"] = st.norm.pdf(df[\"x\"], mu, sigma)\n",
    "\n",
    "plt.plot(df[\"x\"],df[\"prob_density\"])\n",
    "plt.xlabel('x')\n",
    "plt.ylabel('P(X = x)')\n",
    "plt.title(f'Normal Distribution (mu={mu}, sigma={sigma})')\n",
    "\n",
    "#shade area under curve\n",
    "plt.fill_between(df[\"x\"], df[\"prob_density\"], where = (df[\"x\"] < x), color = \"green\")\n",
    "plt.fill_between(df[\"x\"], df[\"prob_density\"], where = (df[\"x\"] > x2) & (df[\"x\"] < x1), color = \"red\")\n",
    "plt.show()\n"
   ]
  },
  {
   "cell_type": "code",
   "execution_count": null,
   "metadata": {},
   "outputs": [],
   "source": [
    "#stanardized:\n",
    "\n",
    "df = pd.DataFrame()\n",
    "df[\"z\"] = np.linspace(-3, 3, 100)\n",
    "df[\"prob_density\"] = st.norm.pdf(df[\"z\"], 0, 1)\n",
    "\n",
    "plt.plot(df[\"z\"],df[\"prob_density\"])\n",
    "plt.xlabel('z')\n",
    "plt.ylabel('P(Z = z)')\n",
    "plt.title(f'Standard Normal Distribution')\n",
    "\n",
    "plt.fill_between(df[\"z\"], df[\"prob_density\"], where = (df[\"z\"] < z), color = \"green\")\n",
    "plt.fill_between(df[\"z\"], df[\"prob_density\"], where = (df[\"z\"] > z2) & (df[\"z\"] < z1), color = \"red\")\n",
    "plt.show()\n"
   ]
  }
 ],
 "metadata": {
  "kernelspec": {
   "display_name": "Python 3",
   "language": "python",
   "name": "python3"
  },
  "language_info": {
   "codemirror_mode": {
    "name": "ipython",
    "version": 3
   },
   "file_extension": ".py",
   "mimetype": "text/x-python",
   "name": "python",
   "nbconvert_exporter": "python",
   "pygments_lexer": "ipython3",
   "version": "3.10.7"
  }
 },
 "nbformat": 4,
 "nbformat_minor": 2
}
